{
 "cells": [
  {
   "cell_type": "code",
   "execution_count": 1,
   "id": "6d5dc59a-f2dc-483c-857a-62423b4510cc",
   "metadata": {
    "tags": []
   },
   "outputs": [],
   "source": [
    "## Homework - Whale Analysis ##"
   ]
  },
  {
   "cell_type": "code",
   "execution_count": 64,
   "id": "bbd92417-c51e-4644-8db3-41c58ba48fbc",
   "metadata": {
    "tags": []
   },
   "outputs": [],
   "source": [
    "# Initial imports\n",
    "import pandas as pd\n",
    "import numpy as np\n",
    "import datetime as dt\n",
    "from pathlib import Path\n",
    "\n",
    "%matplotlib inline"
   ]
  },
  {
   "cell_type": "code",
   "execution_count": 168,
   "id": "30eb0261-b218-43c6-abc2-6216a8ccd1f8",
   "metadata": {
    "tags": []
   },
   "outputs": [],
   "source": [
    "# Reading, cleaning and combining data into a single frame #\n",
    "\n",
    "## Borrowing code from previous projects module 3 ##\n",
    "\n",
    "whale_returns_path = Path(\"Resources/whale_returns.csv\")\n",
    "algo_returns_path = Path(\"Resources/algo_returns.csv\")\n",
    "sp500_history_path = Path(\"Resources/sp500_history.csv\")\n",
    "\n",
    "# Read in data\n",
    "whale_returns = pd.read_csv(whale_returns_path, parse_dates=True)\n",
    "algo_returns = pd.read_csv(algo_returns_path, parse_dates=True)\n",
    "sp500_history = pd.read_csv(sp500_history_path, parse_dates=True)\n",
    "\n",
    "# Check for nulls\n",
    "whale_returns.isnull().mean() * 100\n",
    "whale_returns.isnull().sum()\n",
    "algo_returns.isnull().mean() * 100\n",
    "algo_returns.isnull().sum()\n",
    "sp500_history.isnull().mean() * 100\n",
    "sp500_history.isnull().sum()\n",
    "\n",
    "# Drop na\n",
    "whale_returns = whale_returns.dropna()\n",
    "algo_returns = algo_returns.dropna()\n",
    "sp500_history = sp500_history.dropna()\n",
    "\n",
    "# Validate no more missing values\n",
    "whale_returns.isnull().sum()\n",
    "whale_returns.head()\n",
    "algo_returns.isnull().sum()\n",
    "algo_returns.head()\n",
    "sp500_history.isnull().sum()\n",
    "sp500_history.head()\n",
    "\n",
    "# Set Date as index\n",
    "whale_returns = whale_returns.set_index('Date')\n",
    "algo_returns = algo_returns.set_index('Date')\n",
    "sp500_history = sp500_history.set_index('Date')\n",
    "\n",
    "# Sort Date as Index\n",
    "whale_returns = whale_returns.sort_index()\n",
    "algo_returns = algo_returns.sort_index()\n",
    "sp500_history = sp500_history.sort_index()\n",
    "\n",
    "# Set Date Format\n",
    "#whale_returns[‘Date’] = pd.to_datetime(whale_returns[‘Date’])\n",
    "#whale_returns[‘date’] = whale_returns[‘Date’].dt.strftime(‘%Y-%m-%d’)\n",
    "#algo_returns[‘Date’] = pd.to_datetime(algo_returns[‘Date’])\n",
    "#algo_returns[‘date’] = algo_returns[‘Date’].dt.strftime(‘%Y-%m-%d’)\n",
    "#sp500_history[‘Date’] = pd.to_datetime(sp500_history[‘Date’])\n",
    "#sp500_history[‘date.1’] = sp500_history[‘Date’].dt.strftime(‘%Y-%m-%d’)"
   ]
  },
  {
   "cell_type": "code",
   "execution_count": 169,
   "id": "ec41a2ca-c223-4ded-807e-dd701e40b912",
   "metadata": {},
   "outputs": [],
   "source": [
    "# Convert string to float for clean numeric format\n",
    "\n",
    "sp500_history['Close'] = sp500_history['Close'].str.replace('$', '').str.replace(',', '').astype(float)\n",
    "\n",
    "# Convert S&P 500 closing prices to returns\n",
    "\n",
    "sp500_returns = sp500_history.pct_change().dropna()\n"
   ]
  },
  {
   "cell_type": "code",
   "execution_count": 170,
   "id": "e79965f9-5bf6-4b8e-89f2-b32dcf6eb6bd",
   "metadata": {
    "tags": []
   },
   "outputs": [
    {
     "data": {
      "text/html": [
       "<div>\n",
       "<style scoped>\n",
       "    .dataframe tbody tr th:only-of-type {\n",
       "        vertical-align: middle;\n",
       "    }\n",
       "\n",
       "    .dataframe tbody tr th {\n",
       "        vertical-align: top;\n",
       "    }\n",
       "\n",
       "    .dataframe thead th {\n",
       "        text-align: right;\n",
       "    }\n",
       "</style>\n",
       "<table border=\"1\" class=\"dataframe\">\n",
       "  <thead>\n",
       "    <tr style=\"text-align: right;\">\n",
       "      <th></th>\n",
       "      <th>SOROS FUND MANAGEMENT LLC</th>\n",
       "      <th>PAULSON &amp; CO.INC.</th>\n",
       "      <th>TIGER GLOBAL MANAGEMENT LLC</th>\n",
       "      <th>BERKSHIRE HATHAWAY INC</th>\n",
       "    </tr>\n",
       "    <tr>\n",
       "      <th>Date</th>\n",
       "      <th></th>\n",
       "      <th></th>\n",
       "      <th></th>\n",
       "      <th></th>\n",
       "    </tr>\n",
       "  </thead>\n",
       "  <tbody>\n",
       "    <tr>\n",
       "      <th>2015-03-03</th>\n",
       "      <td>-0.001266</td>\n",
       "      <td>-0.004981</td>\n",
       "      <td>-0.000496</td>\n",
       "      <td>-0.006569</td>\n",
       "    </tr>\n",
       "    <tr>\n",
       "      <th>2015-03-04</th>\n",
       "      <td>0.002230</td>\n",
       "      <td>0.003241</td>\n",
       "      <td>-0.002534</td>\n",
       "      <td>0.004213</td>\n",
       "    </tr>\n",
       "    <tr>\n",
       "      <th>2015-03-05</th>\n",
       "      <td>0.004016</td>\n",
       "      <td>0.004076</td>\n",
       "      <td>0.002355</td>\n",
       "      <td>0.006726</td>\n",
       "    </tr>\n",
       "    <tr>\n",
       "      <th>2015-03-06</th>\n",
       "      <td>-0.007905</td>\n",
       "      <td>-0.003574</td>\n",
       "      <td>-0.008481</td>\n",
       "      <td>-0.013098</td>\n",
       "    </tr>\n",
       "    <tr>\n",
       "      <th>2015-03-09</th>\n",
       "      <td>0.000582</td>\n",
       "      <td>0.004225</td>\n",
       "      <td>0.005843</td>\n",
       "      <td>-0.001652</td>\n",
       "    </tr>\n",
       "  </tbody>\n",
       "</table>\n",
       "</div>"
      ],
      "text/plain": [
       "            SOROS FUND MANAGEMENT LLC  PAULSON & CO.INC.   \\\n",
       "Date                                                        \n",
       "2015-03-03                  -0.001266           -0.004981   \n",
       "2015-03-04                   0.002230            0.003241   \n",
       "2015-03-05                   0.004016            0.004076   \n",
       "2015-03-06                  -0.007905           -0.003574   \n",
       "2015-03-09                   0.000582            0.004225   \n",
       "\n",
       "            TIGER GLOBAL MANAGEMENT LLC  BERKSHIRE HATHAWAY INC  \n",
       "Date                                                             \n",
       "2015-03-03                    -0.000496               -0.006569  \n",
       "2015-03-04                    -0.002534                0.004213  \n",
       "2015-03-05                     0.002355                0.006726  \n",
       "2015-03-06                    -0.008481               -0.013098  \n",
       "2015-03-09                     0.005843               -0.001652  "
      ]
     },
     "execution_count": 170,
     "metadata": {},
     "output_type": "execute_result"
    }
   ],
   "source": [
    "whale_returns.head()"
   ]
  },
  {
   "cell_type": "code",
   "execution_count": 171,
   "id": "2b931a3b-586e-45b5-8a22-9ddb94bb8362",
   "metadata": {
    "tags": []
   },
   "outputs": [
    {
     "data": {
      "text/html": [
       "<div>\n",
       "<style scoped>\n",
       "    .dataframe tbody tr th:only-of-type {\n",
       "        vertical-align: middle;\n",
       "    }\n",
       "\n",
       "    .dataframe tbody tr th {\n",
       "        vertical-align: top;\n",
       "    }\n",
       "\n",
       "    .dataframe thead th {\n",
       "        text-align: right;\n",
       "    }\n",
       "</style>\n",
       "<table border=\"1\" class=\"dataframe\">\n",
       "  <thead>\n",
       "    <tr style=\"text-align: right;\">\n",
       "      <th></th>\n",
       "      <th>Algo 1</th>\n",
       "      <th>Algo 2</th>\n",
       "    </tr>\n",
       "    <tr>\n",
       "      <th>Date</th>\n",
       "      <th></th>\n",
       "      <th></th>\n",
       "    </tr>\n",
       "  </thead>\n",
       "  <tbody>\n",
       "    <tr>\n",
       "      <th>2014-06-05</th>\n",
       "      <td>0.004062</td>\n",
       "      <td>0.013285</td>\n",
       "    </tr>\n",
       "    <tr>\n",
       "      <th>2014-06-06</th>\n",
       "      <td>0.001857</td>\n",
       "      <td>0.008284</td>\n",
       "    </tr>\n",
       "    <tr>\n",
       "      <th>2014-06-09</th>\n",
       "      <td>-0.005012</td>\n",
       "      <td>0.005668</td>\n",
       "    </tr>\n",
       "    <tr>\n",
       "      <th>2014-06-10</th>\n",
       "      <td>0.004406</td>\n",
       "      <td>-0.000735</td>\n",
       "    </tr>\n",
       "    <tr>\n",
       "      <th>2014-06-11</th>\n",
       "      <td>0.004760</td>\n",
       "      <td>-0.003761</td>\n",
       "    </tr>\n",
       "  </tbody>\n",
       "</table>\n",
       "</div>"
      ],
      "text/plain": [
       "              Algo 1    Algo 2\n",
       "Date                          \n",
       "2014-06-05  0.004062  0.013285\n",
       "2014-06-06  0.001857  0.008284\n",
       "2014-06-09 -0.005012  0.005668\n",
       "2014-06-10  0.004406 -0.000735\n",
       "2014-06-11  0.004760 -0.003761"
      ]
     },
     "execution_count": 171,
     "metadata": {},
     "output_type": "execute_result"
    }
   ],
   "source": [
    "algo_returns.head()"
   ]
  },
  {
   "cell_type": "code",
   "execution_count": 177,
   "id": "074cb6bd-5168-482b-81ab-034cd3f182ae",
   "metadata": {
    "tags": []
   },
   "outputs": [
    {
     "data": {
      "text/html": [
       "<div>\n",
       "<style scoped>\n",
       "    .dataframe tbody tr th:only-of-type {\n",
       "        vertical-align: middle;\n",
       "    }\n",
       "\n",
       "    .dataframe tbody tr th {\n",
       "        vertical-align: top;\n",
       "    }\n",
       "\n",
       "    .dataframe thead th {\n",
       "        text-align: right;\n",
       "    }\n",
       "</style>\n",
       "<table border=\"1\" class=\"dataframe\">\n",
       "  <thead>\n",
       "    <tr style=\"text-align: right;\">\n",
       "      <th></th>\n",
       "      <th>Close</th>\n",
       "    </tr>\n",
       "    <tr>\n",
       "      <th>Date</th>\n",
       "      <th></th>\n",
       "    </tr>\n",
       "  </thead>\n",
       "  <tbody>\n",
       "    <tr>\n",
       "      <th>1-Apr-14</th>\n",
       "      <td>0.206988</td>\n",
       "    </tr>\n",
       "    <tr>\n",
       "      <th>1-Apr-15</th>\n",
       "      <td>0.092372</td>\n",
       "    </tr>\n",
       "    <tr>\n",
       "      <th>1-Apr-16</th>\n",
       "      <td>0.006355</td>\n",
       "    </tr>\n",
       "    <tr>\n",
       "      <th>1-Apr-19</th>\n",
       "      <td>0.383258</td>\n",
       "    </tr>\n",
       "    <tr>\n",
       "      <th>1-Aug-13</th>\n",
       "      <td>-0.404689</td>\n",
       "    </tr>\n",
       "  </tbody>\n",
       "</table>\n",
       "</div>"
      ],
      "text/plain": [
       "             Close\n",
       "Date              \n",
       "1-Apr-14  0.206988\n",
       "1-Apr-15  0.092372\n",
       "1-Apr-16  0.006355\n",
       "1-Apr-19  0.383258\n",
       "1-Aug-13 -0.404689"
      ]
     },
     "execution_count": 177,
     "metadata": {},
     "output_type": "execute_result"
    }
   ],
   "source": [
    "\n",
    "\n",
    "\n",
    "sp500_returns.head()"
   ]
  },
  {
   "cell_type": "code",
   "execution_count": 178,
   "id": "69194f16-9750-45bf-8d05-94793117f83f",
   "metadata": {},
   "outputs": [
    {
     "data": {
      "text/html": [
       "<div>\n",
       "<style scoped>\n",
       "    .dataframe tbody tr th:only-of-type {\n",
       "        vertical-align: middle;\n",
       "    }\n",
       "\n",
       "    .dataframe tbody tr th {\n",
       "        vertical-align: top;\n",
       "    }\n",
       "\n",
       "    .dataframe thead th {\n",
       "        text-align: right;\n",
       "    }\n",
       "</style>\n",
       "<table border=\"1\" class=\"dataframe\">\n",
       "  <thead>\n",
       "    <tr style=\"text-align: right;\">\n",
       "      <th></th>\n",
       "      <th>SOROS FUND MANAGEMENT LLC</th>\n",
       "      <th>PAULSON &amp; CO.INC.</th>\n",
       "      <th>TIGER GLOBAL MANAGEMENT LLC</th>\n",
       "      <th>BERKSHIRE HATHAWAY INC</th>\n",
       "      <th>Algo 1</th>\n",
       "      <th>Algo 2</th>\n",
       "      <th>Close</th>\n",
       "    </tr>\n",
       "    <tr>\n",
       "      <th>Date</th>\n",
       "      <th></th>\n",
       "      <th></th>\n",
       "      <th></th>\n",
       "      <th></th>\n",
       "      <th></th>\n",
       "      <th></th>\n",
       "      <th></th>\n",
       "    </tr>\n",
       "  </thead>\n",
       "  <tbody>\n",
       "  </tbody>\n",
       "</table>\n",
       "</div>"
      ],
      "text/plain": [
       "Empty DataFrame\n",
       "Columns: [SOROS FUND MANAGEMENT LLC, PAULSON & CO.INC. , TIGER GLOBAL MANAGEMENT LLC, BERKSHIRE HATHAWAY INC, Algo 1, Algo 2, Close]\n",
       "Index: []"
      ]
     },
     "execution_count": 178,
     "metadata": {},
     "output_type": "execute_result"
    }
   ],
   "source": [
    "# Join daily returns files together into a single data frame with columns for each portfolio's returns\n",
    "\n",
    "# Create a new pivot table where the columns are the closing prices for each ticker\n",
    "\n",
    "all_returns = pd.concat([whale_returns, algo_returns, sp500_returns], axis=\"columns\", join=\"inner\")\n",
    "\n",
    "# Sort datetime index in ascending order (past to present)\n",
    "all_returns.sort_index(inplace=True)\n",
    "\n",
    "# Display a few rows\n",
    "\n",
    "all_returns.head()"
   ]
  },
  {
   "cell_type": "code",
   "execution_count": 96,
   "id": "0d9a7187-5b3d-4748-bef4-b5ba0acba233",
   "metadata": {
    "tags": []
   },
   "outputs": [
    {
     "ename": "IndexError",
     "evalue": "index 0 is out of bounds for axis 0 with size 0",
     "output_type": "error",
     "traceback": [
      "\u001b[0;31m---------------------------------------------------------------------------\u001b[0m",
      "\u001b[0;31mIndexError\u001b[0m                                Traceback (most recent call last)",
      "Cell \u001b[0;32mIn[96], line 3\u001b[0m\n\u001b[1;32m      1\u001b[0m \u001b[38;5;66;03m# Calculate and plot daily returns of all portfolios\u001b[39;00m\n\u001b[0;32m----> 3\u001b[0m all_returns\u001b[38;5;241m.\u001b[39mplot\u001b[38;5;241m.\u001b[39mbar(title\u001b[38;5;241m=\u001b[39m\u001b[38;5;124m'\u001b[39m\u001b[38;5;124mDaily Returns\u001b[39m\u001b[38;5;124m'\u001b[39m)\n",
      "File \u001b[0;32m~/anaconda3/lib/python3.11/site-packages/pandas/plotting/_core.py:1136\u001b[0m, in \u001b[0;36mPlotAccessor.bar\u001b[0;34m(self, x, y, **kwargs)\u001b[0m\n\u001b[1;32m   1046\u001b[0m \u001b[38;5;129m@Appender\u001b[39m(\n\u001b[1;32m   1047\u001b[0m \u001b[38;5;250m    \u001b[39m\u001b[38;5;124;03m\"\"\"\u001b[39;00m\n\u001b[1;32m   1048\u001b[0m \u001b[38;5;124;03m    See Also\u001b[39;00m\n\u001b[0;32m   (...)\u001b[0m\n\u001b[1;32m   1125\u001b[0m     \u001b[38;5;28mself\u001b[39m, x\u001b[38;5;241m=\u001b[39m\u001b[38;5;28;01mNone\u001b[39;00m, y\u001b[38;5;241m=\u001b[39m\u001b[38;5;28;01mNone\u001b[39;00m, \u001b[38;5;241m*\u001b[39m\u001b[38;5;241m*\u001b[39mkwargs\n\u001b[1;32m   1126\u001b[0m ) \u001b[38;5;241m-\u001b[39m\u001b[38;5;241m>\u001b[39m PlotAccessor:\n\u001b[1;32m   1127\u001b[0m \u001b[38;5;250m    \u001b[39m\u001b[38;5;124;03m\"\"\"\u001b[39;00m\n\u001b[1;32m   1128\u001b[0m \u001b[38;5;124;03m    Vertical bar plot.\u001b[39;00m\n\u001b[1;32m   1129\u001b[0m \n\u001b[0;32m   (...)\u001b[0m\n\u001b[1;32m   1134\u001b[0m \u001b[38;5;124;03m    other axis represents a measured value.\u001b[39;00m\n\u001b[1;32m   1135\u001b[0m \u001b[38;5;124;03m    \"\"\"\u001b[39;00m\n\u001b[0;32m-> 1136\u001b[0m     \u001b[38;5;28;01mreturn\u001b[39;00m \u001b[38;5;28mself\u001b[39m(kind\u001b[38;5;241m=\u001b[39m\u001b[38;5;124m\"\u001b[39m\u001b[38;5;124mbar\u001b[39m\u001b[38;5;124m\"\u001b[39m, x\u001b[38;5;241m=\u001b[39mx, y\u001b[38;5;241m=\u001b[39my, \u001b[38;5;241m*\u001b[39m\u001b[38;5;241m*\u001b[39mkwargs)\n",
      "File \u001b[0;32m~/anaconda3/lib/python3.11/site-packages/pandas/plotting/_core.py:975\u001b[0m, in \u001b[0;36mPlotAccessor.__call__\u001b[0;34m(self, *args, **kwargs)\u001b[0m\n\u001b[1;32m    972\u001b[0m             label_name \u001b[38;5;241m=\u001b[39m label_kw \u001b[38;5;129;01mor\u001b[39;00m data\u001b[38;5;241m.\u001b[39mcolumns\n\u001b[1;32m    973\u001b[0m             data\u001b[38;5;241m.\u001b[39mcolumns \u001b[38;5;241m=\u001b[39m label_name\n\u001b[0;32m--> 975\u001b[0m \u001b[38;5;28;01mreturn\u001b[39;00m plot_backend\u001b[38;5;241m.\u001b[39mplot(data, kind\u001b[38;5;241m=\u001b[39mkind, \u001b[38;5;241m*\u001b[39m\u001b[38;5;241m*\u001b[39mkwargs)\n",
      "File \u001b[0;32m~/anaconda3/lib/python3.11/site-packages/pandas/plotting/_matplotlib/__init__.py:71\u001b[0m, in \u001b[0;36mplot\u001b[0;34m(data, kind, **kwargs)\u001b[0m\n\u001b[1;32m     69\u001b[0m         kwargs[\u001b[38;5;124m\"\u001b[39m\u001b[38;5;124max\u001b[39m\u001b[38;5;124m\"\u001b[39m] \u001b[38;5;241m=\u001b[39m \u001b[38;5;28mgetattr\u001b[39m(ax, \u001b[38;5;124m\"\u001b[39m\u001b[38;5;124mleft_ax\u001b[39m\u001b[38;5;124m\"\u001b[39m, ax)\n\u001b[1;32m     70\u001b[0m plot_obj \u001b[38;5;241m=\u001b[39m PLOT_CLASSES[kind](data, \u001b[38;5;241m*\u001b[39m\u001b[38;5;241m*\u001b[39mkwargs)\n\u001b[0;32m---> 71\u001b[0m plot_obj\u001b[38;5;241m.\u001b[39mgenerate()\n\u001b[1;32m     72\u001b[0m plot_obj\u001b[38;5;241m.\u001b[39mdraw()\n\u001b[1;32m     73\u001b[0m \u001b[38;5;28;01mreturn\u001b[39;00m plot_obj\u001b[38;5;241m.\u001b[39mresult\n",
      "File \u001b[0;32m~/anaconda3/lib/python3.11/site-packages/pandas/plotting/_matplotlib/core.py:455\u001b[0m, in \u001b[0;36mMPLPlot.generate\u001b[0;34m(self)\u001b[0m\n\u001b[1;32m    453\u001b[0m \u001b[38;5;28;01mfor\u001b[39;00m ax \u001b[38;5;129;01min\u001b[39;00m \u001b[38;5;28mself\u001b[39m\u001b[38;5;241m.\u001b[39maxes:\n\u001b[1;32m    454\u001b[0m     \u001b[38;5;28mself\u001b[39m\u001b[38;5;241m.\u001b[39m_post_plot_logic_common(ax, \u001b[38;5;28mself\u001b[39m\u001b[38;5;241m.\u001b[39mdata)\n\u001b[0;32m--> 455\u001b[0m     \u001b[38;5;28mself\u001b[39m\u001b[38;5;241m.\u001b[39m_post_plot_logic(ax, \u001b[38;5;28mself\u001b[39m\u001b[38;5;241m.\u001b[39mdata)\n",
      "File \u001b[0;32m~/anaconda3/lib/python3.11/site-packages/pandas/plotting/_matplotlib/core.py:1750\u001b[0m, in \u001b[0;36mBarPlot._post_plot_logic\u001b[0;34m(self, ax, data)\u001b[0m\n\u001b[1;32m   1747\u001b[0m \u001b[38;5;28;01melse\u001b[39;00m:\n\u001b[1;32m   1748\u001b[0m     str_index \u001b[38;5;241m=\u001b[39m [pprint_thing(key) \u001b[38;5;28;01mfor\u001b[39;00m key \u001b[38;5;129;01min\u001b[39;00m \u001b[38;5;28mrange\u001b[39m(data\u001b[38;5;241m.\u001b[39mshape[\u001b[38;5;241m0\u001b[39m])]\n\u001b[0;32m-> 1750\u001b[0m s_edge \u001b[38;5;241m=\u001b[39m \u001b[38;5;28mself\u001b[39m\u001b[38;5;241m.\u001b[39max_pos[\u001b[38;5;241m0\u001b[39m] \u001b[38;5;241m-\u001b[39m \u001b[38;5;241m0.25\u001b[39m \u001b[38;5;241m+\u001b[39m \u001b[38;5;28mself\u001b[39m\u001b[38;5;241m.\u001b[39mlim_offset\n\u001b[1;32m   1751\u001b[0m e_edge \u001b[38;5;241m=\u001b[39m \u001b[38;5;28mself\u001b[39m\u001b[38;5;241m.\u001b[39max_pos[\u001b[38;5;241m-\u001b[39m\u001b[38;5;241m1\u001b[39m] \u001b[38;5;241m+\u001b[39m \u001b[38;5;241m0.25\u001b[39m \u001b[38;5;241m+\u001b[39m \u001b[38;5;28mself\u001b[39m\u001b[38;5;241m.\u001b[39mbar_width \u001b[38;5;241m+\u001b[39m \u001b[38;5;28mself\u001b[39m\u001b[38;5;241m.\u001b[39mlim_offset\n\u001b[1;32m   1753\u001b[0m \u001b[38;5;28mself\u001b[39m\u001b[38;5;241m.\u001b[39m_decorate_ticks(ax, \u001b[38;5;28mself\u001b[39m\u001b[38;5;241m.\u001b[39m_get_index_name(), str_index, s_edge, e_edge)\n",
      "\u001b[0;31mIndexError\u001b[0m: index 0 is out of bounds for axis 0 with size 0"
     ]
    },
    {
     "data": {
      "image/png": "[encoded data removed]",
      "text/plain": [
       "<Figure size 640x480 with 1 Axes>"
      ]
     },
     "metadata": {},
     "output_type": "display_data"
    }
   ],
   "source": [
    "# Calculate and plot daily returns of all portfolios\n",
    "\n",
    "all_returns.plot.bar(title='Daily Returns')"
   ]
  },
  {
   "cell_type": "code",
   "execution_count": 44,
   "id": "bdec3cf2-7961-460a-a82c-a291be460b93",
   "metadata": {
    "tags": []
   },
   "outputs": [],
   "source": [
    "# Calculate and plot cumulative returns for all portfolios\n",
    "\n",
    "\n",
    "# Does any portfolio outperform the S&P 500?"
   ]
  },
  {
   "cell_type": "code",
   "execution_count": 45,
   "id": "0ca1244e-bc6d-46fd-ac6f-8d22df02dd52",
   "metadata": {
    "tags": []
   },
   "outputs": [],
   "source": [
    "# Create a box plot for each of the returns"
   ]
  },
  {
   "cell_type": "code",
   "execution_count": 46,
   "id": "09d7a27e-a6a0-4a46-a326-654287f6ff10",
   "metadata": {
    "tags": []
   },
   "outputs": [],
   "source": [
    "# Calculate the standard deviation for each portfolio"
   ]
  },
  {
   "cell_type": "code",
   "execution_count": 47,
   "id": "6c87d4c7-d398-4178-a0d5-6ab3e2b2b6ce",
   "metadata": {
    "tags": []
   },
   "outputs": [],
   "source": [
    "# Determine which portfolios are riskier than the S&P 500"
   ]
  },
  {
   "cell_type": "code",
   "execution_count": 48,
   "id": "b7dfa6e2-0440-4b23-98b4-ee2aa9d41fae",
   "metadata": {
    "tags": []
   },
   "outputs": [],
   "source": [
    "# Calculate the annualized standard deviation"
   ]
  },
  {
   "cell_type": "code",
   "execution_count": 49,
   "id": "7e02897e-1742-4987-93e7-25ff3f2e6443",
   "metadata": {
    "tags": []
   },
   "outputs": [],
   "source": [
    "# Calculate and plot the rolling standard deviation for all portfolios, using a 21-day window"
   ]
  },
  {
   "cell_type": "code",
   "execution_count": 50,
   "id": "660bb20e-379d-4afb-a1ed-6519decf92bd",
   "metadata": {
    "tags": []
   },
   "outputs": [],
   "source": [
    "# Calculate and plot the correlation between each stock to determine which portfolios mimic the S&P 500"
   ]
  },
  {
   "cell_type": "code",
   "execution_count": 51,
   "id": "6faa4f43-713a-494d-a957-06cb19cbb5dc",
   "metadata": {
    "tags": []
   },
   "outputs": [],
   "source": [
    "# Choose one portfolio, then calculate and plot the 60-day rolling beta between that portfolio and the S&P 500"
   ]
  },
  {
   "cell_type": "code",
   "execution_count": 52,
   "id": "ee2bbeef-3dcf-45a5-bc3b-1e5926883a42",
   "metadata": {
    "tags": []
   },
   "outputs": [],
   "source": [
    "# Using the daily returns, calculate the Sharpe ratios and visualize them in a bar plo"
   ]
  },
  {
   "cell_type": "code",
   "execution_count": null,
   "id": "916875c0-7c3b-46a1-82ec-7f049988713d",
   "metadata": {},
   "outputs": [],
   "source": [
    "# Determine whether the algorithmic strategies outperform both the market (S&P 500) and the whales portfolios"
   ]
  }
 ],
 "metadata": {
  "kernelspec": {
   "display_name": "Python 3 (ipykernel)",
   "language": "python",
   "name": "python3"
  },
  "language_info": {
   "codemirror_mode": {
    "name": "ipython",
    "version": 3
   },
   "file_extension": ".py",
   "mimetype": "text/x-python",
   "name": "python",
   "nbconvert_exporter": "python",
   "pygments_lexer": "ipython3",
   "version": "3.11.5"
  }
 },
 "nbformat": 4,
 "nbformat_minor": 5
}
