{
 "cells": [
  {
   "cell_type": "code",
   "execution_count": 1,
   "id": "6d5dc59a-f2dc-483c-857a-62423b4510cc",
   "metadata": {
    "tags": []
   },
   "outputs": [],
   "source": [
    "## Homework - Whale Analysis ##"
   ]
  },
  {
   "cell_type": "code",
   "execution_count": 2,
   "id": "bbd92417-c51e-4644-8db3-41c58ba48fbc",
   "metadata": {
    "tags": []
   },
   "outputs": [],
   "source": [
    "# Initial imports\n",
    "import pandas as pd\n",
    "import numpy as np\n",
    "import datetime as dt\n",
    "from pathlib import Path\n",
    "\n",
    "%matplotlib inline"
   ]
  },
  {
   "cell_type": "code",
   "execution_count": null,
   "id": "30eb0261-b218-43c6-abc2-6216a8ccd1f8",
   "metadata": {},
   "outputs": [],
   "source": []
  }
 ],
 "metadata": {
  "kernelspec": {
   "display_name": "Python 3 (ipykernel)",
   "language": "python",
   "name": "python3"
  },
  "language_info": {
   "codemirror_mode": {
    "name": "ipython",
    "version": 3
   },
   "file_extension": ".py",
   "mimetype": "text/x-python",
   "name": "python",
   "nbconvert_exporter": "python",
   "pygments_lexer": "ipython3",
   "version": "3.11.5"
  }
 },
 "nbformat": 4,
 "nbformat_minor": 5
}
